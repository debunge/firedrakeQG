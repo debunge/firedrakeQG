{
 "cells": [
  {
   "cell_type": "markdown",
   "metadata": {},
   "source": [
    "# 1-Layer SW Jet Stability in Firdrake #\n",
    "\n",
    "Weak Form:\n",
    "\n",
    "\\begin{align*}\n",
    "c \\int_A \\left[ \\phi \\hat u + \\psi  \\hat v + \\varphi \\hat \\eta \\right] \\, dA\n",
    "& = \\int_A \\left( \\overline u  \\phi  - \\frac{1}{Ro k^2} \\psi  \n",
    "+ \\frac{1}{Ro} \\overline h \\varphi  \\right)  \\hat u \\, dA \\\\\n",
    "& = \\int_A \\left( (\\partial_y \\overline u - \\frac{1}{Ro}) \\phi  +  \\overline u \\psi  - \\frac{1}{Ro} \\overline h \\partial_y  \\varphi  \\right) \\hat v \\, dA \\\\\n",
    "& = \\int_A \\left( \\frac{1}{Ro} \\phi - \\frac{1}{Ro k^2} \\psi \\partial_y  + \\varphi \\overline u   \\right) \\hat \\eta \\, dA \\\\\n",
    "\\end{align*}"
   ]
  },
  {
   "cell_type": "code",
   "execution_count": 1,
   "metadata": {
    "collapsed": true
   },
   "outputs": [],
   "source": [
    "# Import Libraries\n",
    "\n",
    "import numpy as np\n",
    "import matplotlib.pyplot as plt\n",
    "%matplotlib inline\n",
    "\n",
    "from firedrake import *\n",
    "from firedrake.petsc import PETSc\n",
    "try:\n",
    "    from slepc4py import SLEPc\n",
    "except ImportError:\n",
    "    import sys\n",
    "    warning(\"Unable to import SLEPc, eigenvalue computation not possible (try firedrake-update --slepc)\")\n",
    "    sys.exit(0)"
   ]
  },
  {
   "cell_type": "code",
   "execution_count": 2,
   "metadata": {
    "collapsed": true
   },
   "outputs": [],
   "source": [
    "# Define an Interval Mesh\n",
    "\n",
    "Ly   = 10.0\n",
    "Uj   = 0.5\n",
    "n0   = 200\n",
    "mesh = IntervalMesh(n0, Ly)\n",
    "x = SpatialCoordinate(mesh)\n",
    "\n",
    "# Define parameters\n",
    "\n",
    "beta = Constant('0.0')\n",
    "Bu   = Constant('0.0004')\n",
    "Ro   = Constant('0.25')\n",
    "# Profile\n",
    "\n",
    "profile = 'bickley'\n",
    "#profile = 'gaussian'\n",
    "#profile = 'bump'"
   ]
  },
  {
   "cell_type": "code",
   "execution_count": 3,
   "metadata": {
    "collapsed": false
   },
   "outputs": [
    {
     "name": "stdout",
     "output_type": "stream",
     "text": [
      "('Ro      = ', 0.25)\n",
      "('Bu      = ', 0.0004)\n",
      "('profile = ', 'bickley')\n"
     ]
    }
   ],
   "source": [
    "print('Ro      = ', float(Ro))\n",
    "print('Bu      = ', float(Bu))\n",
    "print('profile = ', profile)"
   ]
  },
  {
   "cell_type": "code",
   "execution_count": 4,
   "metadata": {
    "collapsed": false
   },
   "outputs": [],
   "source": [
    "# Order of the Method\n",
    "\n",
    "p = 0 # Define CG function space\n",
    "\n",
    "# Function Spaces\n",
    "V  = FunctionSpace(mesh,'CG',p+2)\n",
    "Z  = V*V*V\n",
    "\n",
    "# Impose zero Dirichlet BCs\n",
    "bc = DirichletBC(Z.sub(1), 0.0, \"on_boundary\")\n",
    "\n",
    "# Define modes \n",
    "\n",
    "emodes_real, emodes_imag = Function(V), Function(V)"
   ]
  },
  {
   "cell_type": "code",
   "execution_count": 5,
   "metadata": {
    "collapsed": true
   },
   "outputs": [],
   "source": [
    "# TEST/TRIAL FUNCTIONS\n",
    "(u, v, eta)      = TrialFunctions(Z)\n",
    "(phi, psi, vphi) = TestFunctions(Z)"
   ]
  },
  {
   "cell_type": "code",
   "execution_count": 6,
   "metadata": {
    "collapsed": false
   },
   "outputs": [
    {
     "data": {
      "image/png": "[encoded data removed]",
      "text/plain": [
       "<matplotlib.figure.Figure at 0x7f695114f3d0>"
      ]
     },
     "metadata": {},
     "output_type": "display_data"
    },
    {
     "data": {
      "image/png": "[encoded data removed]",
      "text/plain": [
       "<matplotlib.figure.Figure at 0x7f6915968c90>"
      ]
     },
     "metadata": {},
     "output_type": "display_data"
    }
   ],
   "source": [
    "# Define Basic State\n",
    "\n",
    "#FJP: Do we need Eb or can we remove it?\n",
    "Ub  = Function(V).interpolate(1./pow(cosh(x[0]-Ly/2),2))\n",
    "dUb = Function(V).interpolate(1./pow(cosh(x[0]-Ly/2),2))    # FJP: compute correctly\n",
    "Eb  = Function(V).interpolate(-tanh(x[0]-Ly/2))             # FJP: remove?\n",
    "Hb  = Function(V).interpolate(1. + Ro*Bu*Eb)\n",
    "\n",
    "plot(Ub)\n",
    "plt.show()\n",
    "plot(Hb)\n",
    "plt.show()"
   ]
  },
  {
   "cell_type": "markdown",
   "metadata": {},
   "source": [
    "\\begin{align*}\n",
    "c \\int_A \\left[ \\phi \\hat u + \\psi  \\hat v + \\varphi \\hat \\eta \\right] \\, dA\n",
    "& = \\int_A \\left( \\overline u  \\phi  - \\frac{1}{Ro k^2} \\psi  \n",
    "+ \\frac{1}{Ro} \\overline h \\varphi  \\right)  \\hat u \\, dA \\\\\n",
    "& = \\int_A \\left( (\\partial_y \\overline u - \\frac{1}{Ro}) \\phi  +  \\overline u \\psi  - \\frac{1}{Ro} \\overline h \\partial_y  \\varphi  \\right) \\hat v \\, dA \\\\\n",
    "& = \\int_A \\left( \\frac{1}{Ro} \\phi - \\frac{1}{Ro k^2} \\psi \\partial_y  + \\varphi \\overline u   \\right) \\hat \\eta \\, dA \\\\\n",
    "\\end{align*}"
   ]
  },
  {
   "cell_type": "code",
   "execution_count": 8,
   "metadata": {
    "collapsed": false
   },
   "outputs": [
    {
     "ename": "ArityMismatch",
     "evalue": "Adding expressions with non-matching form arguments (Argument(WithGeometry(FunctionSpace(<firedrake.mesh.MeshTopology object at 0x7f695114f390>, FiniteElement('Lagrange', interval, 2), name=None), Mesh(VectorElement(FiniteElement('Lagrange', interval, 1), dim=1), 1)), 0, None), Argument(WithGeometry(FunctionSpace(<firedrake.mesh.MeshTopology object at 0x7f695114f390>, FiniteElement('Lagrange', interval, 2), name=None), Mesh(VectorElement(FiniteElement('Lagrange', interval, 1), dim=1), 1)), 1, None)) vs (Argument(WithGeometry(FunctionSpace(<firedrake.mesh.MeshTopology object at 0x7f695114f390>, FiniteElement('Lagrange', interval, 2), name=None), Mesh(VectorElement(FiniteElement('Lagrange', interval, 1), dim=1), 1)), 0, None),).",
     "output_type": "error",
     "traceback": [
      "\u001b[0;31m---------------------------------------------------------------------------\u001b[0m",
      "\u001b[0;31mArityMismatch\u001b[0m                             Traceback (most recent call last)",
      "\u001b[0;32m<ipython-input-8-aa08eb0c2b22>\u001b[0m in \u001b[0;36m<module>\u001b[0;34m()\u001b[0m\n\u001b[1;32m     20\u001b[0m     \u001b[0;31m# Build Petsc operators\u001b[0m\u001b[0;34m\u001b[0m\u001b[0;34m\u001b[0m\u001b[0m\n\u001b[1;32m     21\u001b[0m \u001b[0;34m\u001b[0m\u001b[0m\n\u001b[0;32m---> 22\u001b[0;31m     \u001b[0mpetsc_a\u001b[0m \u001b[0;34m=\u001b[0m \u001b[0massemble\u001b[0m\u001b[0;34m(\u001b[0m\u001b[0ma\u001b[0m\u001b[0;34m)\u001b[0m\u001b[0;34m.\u001b[0m\u001b[0mM\u001b[0m\u001b[0;34m.\u001b[0m\u001b[0mhandle\u001b[0m\u001b[0;34m\u001b[0m\u001b[0m\n\u001b[0m\u001b[1;32m     23\u001b[0m     \u001b[0mpetsc_m\u001b[0m \u001b[0;34m=\u001b[0m \u001b[0massemble\u001b[0m\u001b[0;34m(\u001b[0m\u001b[0mm\u001b[0m\u001b[0;34m,\u001b[0m \u001b[0mbcs\u001b[0m\u001b[0;34m=\u001b[0m\u001b[0mbc\u001b[0m\u001b[0;34m)\u001b[0m\u001b[0;34m.\u001b[0m\u001b[0mM\u001b[0m\u001b[0;34m.\u001b[0m\u001b[0mhandle\u001b[0m\u001b[0;34m\u001b[0m\u001b[0m\n\u001b[1;32m     24\u001b[0m     \u001b[0;31m#petsc_a = assemble(a, mat_type='aij', bcs=bc).M.handle\u001b[0m\u001b[0;34m\u001b[0m\u001b[0;34m\u001b[0m\u001b[0m\n",
      "\u001b[0;32m/home/fpoulin/software/firedrake/src/firedrake/firedrake/assemble.pyc\u001b[0m in \u001b[0;36massemble\u001b[0;34m(f, tensor, bcs, form_compiler_parameters, inverse, mat_type, sub_mat_type, appctx, **kwargs)\u001b[0m\n\u001b[1;32m    100\u001b[0m                          \u001b[0msub_mat_type\u001b[0m\u001b[0;34m=\u001b[0m\u001b[0msub_mat_type\u001b[0m\u001b[0;34m,\u001b[0m \u001b[0mappctx\u001b[0m\u001b[0;34m=\u001b[0m\u001b[0mappctx\u001b[0m\u001b[0;34m,\u001b[0m\u001b[0;34m\u001b[0m\u001b[0m\n\u001b[1;32m    101\u001b[0m                          \u001b[0mcollect_loops\u001b[0m\u001b[0;34m=\u001b[0m\u001b[0mcollect_loops\u001b[0m\u001b[0;34m,\u001b[0m\u001b[0;34m\u001b[0m\u001b[0m\n\u001b[0;32m--> 102\u001b[0;31m                          allocate_only=allocate_only)\n\u001b[0m\u001b[1;32m    103\u001b[0m     \u001b[0;32melif\u001b[0m \u001b[0misinstance\u001b[0m\u001b[0;34m(\u001b[0m\u001b[0mf\u001b[0m\u001b[0;34m,\u001b[0m \u001b[0mufl\u001b[0m\u001b[0;34m.\u001b[0m\u001b[0mcore\u001b[0m\u001b[0;34m.\u001b[0m\u001b[0mexpr\u001b[0m\u001b[0;34m.\u001b[0m\u001b[0mExpr\u001b[0m\u001b[0;34m)\u001b[0m\u001b[0;34m:\u001b[0m\u001b[0;34m\u001b[0m\u001b[0m\n\u001b[1;32m    104\u001b[0m         \u001b[0;32mreturn\u001b[0m \u001b[0massemble_expressions\u001b[0m\u001b[0;34m.\u001b[0m\u001b[0massemble_expression\u001b[0m\u001b[0;34m(\u001b[0m\u001b[0mf\u001b[0m\u001b[0;34m)\u001b[0m\u001b[0;34m\u001b[0m\u001b[0m\n",
      "\u001b[0;32m<decorator-gen-400>\u001b[0m in \u001b[0;36m_assemble\u001b[0;34m(f, tensor, bcs, form_compiler_parameters, inverse, mat_type, sub_mat_type, appctx, collect_loops, allocate_only)\u001b[0m\n",
      "\u001b[0;32m/home/fpoulin/software/firedrake/src/firedrake/firedrake/utils.pyc\u001b[0m in \u001b[0;36mwrapper\u001b[0;34m(f, *args, **kwargs)\u001b[0m\n\u001b[1;32m     60\u001b[0m         \u001b[0mopts\u001b[0m\u001b[0;34m[\u001b[0m\u001b[0;34m\"type_check\"\u001b[0m\u001b[0;34m]\u001b[0m \u001b[0;34m=\u001b[0m \u001b[0msafe\u001b[0m\u001b[0;34m\u001b[0m\u001b[0m\n\u001b[1;32m     61\u001b[0m         \u001b[0;32mtry\u001b[0m\u001b[0;34m:\u001b[0m\u001b[0;34m\u001b[0m\u001b[0m\n\u001b[0;32m---> 62\u001b[0;31m             \u001b[0;32mreturn\u001b[0m \u001b[0mf\u001b[0m\u001b[0;34m(\u001b[0m\u001b[0;34m*\u001b[0m\u001b[0margs\u001b[0m\u001b[0;34m,\u001b[0m \u001b[0;34m**\u001b[0m\u001b[0mkwargs\u001b[0m\u001b[0;34m)\u001b[0m\u001b[0;34m\u001b[0m\u001b[0m\n\u001b[0m\u001b[1;32m     63\u001b[0m         \u001b[0;32mfinally\u001b[0m\u001b[0;34m:\u001b[0m\u001b[0;34m\u001b[0m\u001b[0m\n\u001b[1;32m     64\u001b[0m             \u001b[0mopts\u001b[0m\u001b[0;34m[\u001b[0m\u001b[0;34m\"type_check\"\u001b[0m\u001b[0;34m]\u001b[0m \u001b[0;34m=\u001b[0m \u001b[0mcheck\u001b[0m\u001b[0;34m\u001b[0m\u001b[0m\n",
      "\u001b[0;32m/home/fpoulin/software/firedrake/src/firedrake/firedrake/assemble.pyc\u001b[0m in \u001b[0;36m_assemble\u001b[0;34m(f, tensor, bcs, form_compiler_parameters, inverse, mat_type, sub_mat_type, appctx, collect_loops, allocate_only)\u001b[0m\n\u001b[1;32m    190\u001b[0m         \u001b[0mintegral_types\u001b[0m \u001b[0;34m=\u001b[0m \u001b[0;34m[\u001b[0m\u001b[0mkernel\u001b[0m\u001b[0;34m.\u001b[0m\u001b[0mkinfo\u001b[0m\u001b[0;34m.\u001b[0m\u001b[0mintegral_type\u001b[0m \u001b[0;32mfor\u001b[0m \u001b[0mkernel\u001b[0m \u001b[0;32min\u001b[0m \u001b[0mkernels\u001b[0m\u001b[0;34m]\u001b[0m\u001b[0;34m\u001b[0m\u001b[0m\n\u001b[1;32m    191\u001b[0m     \u001b[0;32melse\u001b[0m\u001b[0;34m:\u001b[0m\u001b[0;34m\u001b[0m\u001b[0m\n\u001b[0;32m--> 192\u001b[0;31m         \u001b[0mkernels\u001b[0m \u001b[0;34m=\u001b[0m \u001b[0mtsfc_interface\u001b[0m\u001b[0;34m.\u001b[0m\u001b[0mcompile_form\u001b[0m\u001b[0;34m(\u001b[0m\u001b[0mf\u001b[0m\u001b[0;34m,\u001b[0m \u001b[0;34m\"form\"\u001b[0m\u001b[0;34m,\u001b[0m \u001b[0mparameters\u001b[0m\u001b[0;34m=\u001b[0m\u001b[0mform_compiler_parameters\u001b[0m\u001b[0;34m,\u001b[0m \u001b[0minverse\u001b[0m\u001b[0;34m=\u001b[0m\u001b[0minverse\u001b[0m\u001b[0;34m)\u001b[0m\u001b[0;34m\u001b[0m\u001b[0m\n\u001b[0m\u001b[1;32m    193\u001b[0m         \u001b[0mintegral_types\u001b[0m \u001b[0;34m=\u001b[0m \u001b[0;34m[\u001b[0m\u001b[0mintegral\u001b[0m\u001b[0;34m.\u001b[0m\u001b[0mintegral_type\u001b[0m\u001b[0;34m(\u001b[0m\u001b[0;34m)\u001b[0m \u001b[0;32mfor\u001b[0m \u001b[0mintegral\u001b[0m \u001b[0;32min\u001b[0m \u001b[0mf\u001b[0m\u001b[0;34m.\u001b[0m\u001b[0mintegrals\u001b[0m\u001b[0;34m(\u001b[0m\u001b[0;34m)\u001b[0m\u001b[0;34m]\u001b[0m\u001b[0;34m\u001b[0m\u001b[0m\n\u001b[1;32m    194\u001b[0m \u001b[0;34m\u001b[0m\u001b[0m\n",
      "\u001b[0;32m/home/fpoulin/software/firedrake/src/firedrake/firedrake/tsfc_interface.pyc\u001b[0m in \u001b[0;36mcompile_form\u001b[0;34m(form, name, parameters, inverse)\u001b[0m\n\u001b[1;32m    191\u001b[0m                           for (n, c) in enumerate(f.coefficients()))\n\u001b[1;32m    192\u001b[0m         kinfos = TSFCKernel(f, name + \"\".join(map(str, idx)), parameters,\n\u001b[0;32m--> 193\u001b[0;31m                             number_map).kernels\n\u001b[0m\u001b[1;32m    194\u001b[0m         \u001b[0;32mfor\u001b[0m \u001b[0mkinfo\u001b[0m \u001b[0;32min\u001b[0m \u001b[0mkinfos\u001b[0m\u001b[0;34m:\u001b[0m\u001b[0;34m\u001b[0m\u001b[0m\n\u001b[1;32m    195\u001b[0m             \u001b[0mkernels\u001b[0m\u001b[0;34m.\u001b[0m\u001b[0mappend\u001b[0m\u001b[0;34m(\u001b[0m\u001b[0mSplitKernel\u001b[0m\u001b[0;34m(\u001b[0m\u001b[0midx\u001b[0m\u001b[0;34m,\u001b[0m \u001b[0mkinfo\u001b[0m\u001b[0;34m)\u001b[0m\u001b[0;34m)\u001b[0m\u001b[0;34m\u001b[0m\u001b[0m\n",
      "\u001b[0;32m/home/fpoulin/software/firedrake/src/PyOP2/pyop2/caching.pyc\u001b[0m in \u001b[0;36m__new__\u001b[0;34m(cls, *args, **kwargs)\u001b[0m\n\u001b[1;32m    198\u001b[0m             \u001b[0;32mreturn\u001b[0m \u001b[0mcls\u001b[0m\u001b[0;34m.\u001b[0m\u001b[0m_cache_lookup\u001b[0m\u001b[0;34m(\u001b[0m\u001b[0mkey\u001b[0m\u001b[0;34m)\u001b[0m\u001b[0;34m\u001b[0m\u001b[0m\n\u001b[1;32m    199\u001b[0m         \u001b[0;32mexcept\u001b[0m \u001b[0;34m(\u001b[0m\u001b[0mKeyError\u001b[0m\u001b[0;34m,\u001b[0m \u001b[0mIOError\u001b[0m\u001b[0;34m)\u001b[0m\u001b[0;34m:\u001b[0m\u001b[0;34m\u001b[0m\u001b[0m\n\u001b[0;32m--> 200\u001b[0;31m             \u001b[0mobj\u001b[0m \u001b[0;34m=\u001b[0m \u001b[0mmake_obj\u001b[0m\u001b[0;34m(\u001b[0m\u001b[0;34m)\u001b[0m\u001b[0;34m\u001b[0m\u001b[0m\n\u001b[0m\u001b[1;32m    201\u001b[0m             \u001b[0mcls\u001b[0m\u001b[0;34m.\u001b[0m\u001b[0m_cache_store\u001b[0m\u001b[0;34m(\u001b[0m\u001b[0mkey\u001b[0m\u001b[0;34m,\u001b[0m \u001b[0mobj\u001b[0m\u001b[0;34m)\u001b[0m\u001b[0;34m\u001b[0m\u001b[0m\n\u001b[1;32m    202\u001b[0m             \u001b[0;32mreturn\u001b[0m \u001b[0mobj\u001b[0m\u001b[0;34m\u001b[0m\u001b[0m\n",
      "\u001b[0;32m/home/fpoulin/software/firedrake/src/PyOP2/pyop2/caching.pyc\u001b[0m in \u001b[0;36mmake_obj\u001b[0;34m()\u001b[0m\n\u001b[1;32m    188\u001b[0m             \u001b[0;31m# subclass.  But that one should hit the cache and return\u001b[0m\u001b[0;34m\u001b[0m\u001b[0;34m\u001b[0m\u001b[0m\n\u001b[1;32m    189\u001b[0m             \u001b[0;31m# straight away.\u001b[0m\u001b[0;34m\u001b[0m\u001b[0;34m\u001b[0m\u001b[0m\n\u001b[0;32m--> 190\u001b[0;31m             \u001b[0mobj\u001b[0m\u001b[0;34m.\u001b[0m\u001b[0m__init__\u001b[0m\u001b[0;34m(\u001b[0m\u001b[0;34m*\u001b[0m\u001b[0margs\u001b[0m\u001b[0;34m,\u001b[0m \u001b[0;34m**\u001b[0m\u001b[0mkwargs\u001b[0m\u001b[0;34m)\u001b[0m\u001b[0;34m\u001b[0m\u001b[0m\n\u001b[0m\u001b[1;32m    191\u001b[0m             \u001b[0;32mreturn\u001b[0m \u001b[0mobj\u001b[0m\u001b[0;34m\u001b[0m\u001b[0m\n\u001b[1;32m    192\u001b[0m \u001b[0;34m\u001b[0m\u001b[0m\n",
      "\u001b[0;32m/home/fpoulin/software/firedrake/src/firedrake/firedrake/tsfc_interface.pyc\u001b[0m in \u001b[0;36m__init__\u001b[0;34m(self, form, name, parameters, number_map)\u001b[0m\n\u001b[1;32m    110\u001b[0m             \u001b[0;32mreturn\u001b[0m\u001b[0;34m\u001b[0m\u001b[0m\n\u001b[1;32m    111\u001b[0m \u001b[0;34m\u001b[0m\u001b[0m\n\u001b[0;32m--> 112\u001b[0;31m         \u001b[0mtree\u001b[0m \u001b[0;34m=\u001b[0m \u001b[0mtsfc_compile_form\u001b[0m\u001b[0;34m(\u001b[0m\u001b[0mform\u001b[0m\u001b[0;34m,\u001b[0m \u001b[0mprefix\u001b[0m\u001b[0;34m=\u001b[0m\u001b[0mname\u001b[0m\u001b[0;34m,\u001b[0m \u001b[0mparameters\u001b[0m\u001b[0;34m=\u001b[0m\u001b[0mparameters\u001b[0m\u001b[0;34m)\u001b[0m\u001b[0;34m\u001b[0m\u001b[0m\n\u001b[0m\u001b[1;32m    113\u001b[0m         \u001b[0mkernels\u001b[0m \u001b[0;34m=\u001b[0m \u001b[0;34m[\u001b[0m\u001b[0;34m]\u001b[0m\u001b[0;34m\u001b[0m\u001b[0m\n\u001b[1;32m    114\u001b[0m         \u001b[0;32mfor\u001b[0m \u001b[0mkernel\u001b[0m \u001b[0;32min\u001b[0m \u001b[0mtree\u001b[0m\u001b[0;34m:\u001b[0m\u001b[0;34m\u001b[0m\u001b[0m\n",
      "\u001b[0;32m/home/fpoulin/software/firedrake/src/tsfc/tsfc/driver.pyc\u001b[0m in \u001b[0;36mcompile_form\u001b[0;34m(form, prefix, parameters)\u001b[0m\n\u001b[1;32m     42\u001b[0m     \u001b[0;32massert\u001b[0m \u001b[0misinstance\u001b[0m\u001b[0;34m(\u001b[0m\u001b[0mform\u001b[0m\u001b[0;34m,\u001b[0m \u001b[0mForm\u001b[0m\u001b[0;34m)\u001b[0m\u001b[0;34m\u001b[0m\u001b[0m\n\u001b[1;32m     43\u001b[0m \u001b[0;34m\u001b[0m\u001b[0m\n\u001b[0;32m---> 44\u001b[0;31m     \u001b[0mfd\u001b[0m \u001b[0;34m=\u001b[0m \u001b[0mufl_utils\u001b[0m\u001b[0;34m.\u001b[0m\u001b[0mcompute_form_data\u001b[0m\u001b[0;34m(\u001b[0m\u001b[0mform\u001b[0m\u001b[0;34m)\u001b[0m\u001b[0;34m\u001b[0m\u001b[0m\n\u001b[0m\u001b[1;32m     45\u001b[0m     \u001b[0mlogger\u001b[0m\u001b[0;34m.\u001b[0m\u001b[0minfo\u001b[0m\u001b[0;34m(\u001b[0m\u001b[0mGREEN\u001b[0m \u001b[0;34m%\u001b[0m \u001b[0;34m\"compute_form_data finished in %g seconds.\"\u001b[0m\u001b[0;34m,\u001b[0m \u001b[0mtime\u001b[0m\u001b[0;34m.\u001b[0m\u001b[0mtime\u001b[0m\u001b[0;34m(\u001b[0m\u001b[0;34m)\u001b[0m \u001b[0;34m-\u001b[0m \u001b[0mcpu_time\u001b[0m\u001b[0;34m)\u001b[0m\u001b[0;34m\u001b[0m\u001b[0m\n\u001b[1;32m     46\u001b[0m \u001b[0;34m\u001b[0m\u001b[0m\n",
      "\u001b[0;32m/home/fpoulin/software/firedrake/src/tsfc/tsfc/ufl_utils.pyc\u001b[0m in \u001b[0;36mcompute_form_data\u001b[0;34m(form, do_apply_function_pullbacks, do_apply_integral_scaling, do_apply_geometry_lowering, preserve_geometry_types, do_apply_restrictions, do_estimate_degrees)\u001b[0m\n\u001b[1;32m     54\u001b[0m         \u001b[0mpreserve_geometry_types\u001b[0m\u001b[0;34m=\u001b[0m\u001b[0mpreserve_geometry_types\u001b[0m\u001b[0;34m,\u001b[0m\u001b[0;34m\u001b[0m\u001b[0m\n\u001b[1;32m     55\u001b[0m         \u001b[0mdo_apply_restrictions\u001b[0m\u001b[0;34m=\u001b[0m\u001b[0mdo_apply_restrictions\u001b[0m\u001b[0;34m,\u001b[0m\u001b[0;34m\u001b[0m\u001b[0m\n\u001b[0;32m---> 56\u001b[0;31m         \u001b[0mdo_estimate_degrees\u001b[0m\u001b[0;34m=\u001b[0m\u001b[0mdo_estimate_degrees\u001b[0m\u001b[0;34m,\u001b[0m\u001b[0;34m\u001b[0m\u001b[0m\n\u001b[0m\u001b[1;32m     57\u001b[0m     )\n\u001b[1;32m     58\u001b[0m     \u001b[0;32mreturn\u001b[0m \u001b[0mfd\u001b[0m\u001b[0;34m\u001b[0m\u001b[0m\n",
      "\u001b[0;32m/home/fpoulin/software/firedrake/src/ufl/ufl/algorithms/compute_form_data.pyc\u001b[0m in \u001b[0;36mcompute_form_data\u001b[0;34m(form, do_apply_function_pullbacks, do_apply_integral_scaling, do_apply_geometry_lowering, preserve_geometry_types, do_apply_default_restrictions, do_apply_restrictions, do_estimate_degrees)\u001b[0m\n\u001b[1;32m    385\u001b[0m     \u001b[0;31m# faster!\u001b[0m\u001b[0;34m\u001b[0m\u001b[0;34m\u001b[0m\u001b[0m\n\u001b[1;32m    386\u001b[0m     \u001b[0mpreprocessed_form\u001b[0m \u001b[0;34m=\u001b[0m \u001b[0mreconstruct_form_from_integral_data\u001b[0m\u001b[0;34m(\u001b[0m\u001b[0mself\u001b[0m\u001b[0;34m.\u001b[0m\u001b[0mintegral_data\u001b[0m\u001b[0;34m)\u001b[0m\u001b[0;34m\u001b[0m\u001b[0m\n\u001b[0;32m--> 387\u001b[0;31m     \u001b[0mcheck_form_arity\u001b[0m\u001b[0;34m(\u001b[0m\u001b[0mpreprocessed_form\u001b[0m\u001b[0;34m,\u001b[0m \u001b[0mself\u001b[0m\u001b[0;34m.\u001b[0m\u001b[0moriginal_form\u001b[0m\u001b[0;34m.\u001b[0m\u001b[0marguments\u001b[0m\u001b[0;34m(\u001b[0m\u001b[0;34m)\u001b[0m\u001b[0;34m)\u001b[0m  \u001b[0;31m# Currently testing how fast this is\u001b[0m\u001b[0;34m\u001b[0m\u001b[0m\n\u001b[0m\u001b[1;32m    388\u001b[0m \u001b[0;34m\u001b[0m\u001b[0m\n\u001b[1;32m    389\u001b[0m     \u001b[0;31m# TODO: This member is used by unit tests, change the tests to\u001b[0m\u001b[0;34m\u001b[0m\u001b[0;34m\u001b[0m\u001b[0m\n",
      "\u001b[0;32m/home/fpoulin/software/firedrake/src/ufl/ufl/algorithms/check_arities.pyc\u001b[0m in \u001b[0;36mcheck_form_arity\u001b[0;34m(form, arguments)\u001b[0m\n\u001b[1;32m    150\u001b[0m \u001b[0;32mdef\u001b[0m \u001b[0mcheck_form_arity\u001b[0m\u001b[0;34m(\u001b[0m\u001b[0mform\u001b[0m\u001b[0;34m,\u001b[0m \u001b[0marguments\u001b[0m\u001b[0;34m)\u001b[0m\u001b[0;34m:\u001b[0m\u001b[0;34m\u001b[0m\u001b[0m\n\u001b[1;32m    151\u001b[0m     \u001b[0;32mfor\u001b[0m \u001b[0mitg\u001b[0m \u001b[0;32min\u001b[0m \u001b[0mform\u001b[0m\u001b[0;34m.\u001b[0m\u001b[0mintegrals\u001b[0m\u001b[0;34m(\u001b[0m\u001b[0;34m)\u001b[0m\u001b[0;34m:\u001b[0m\u001b[0;34m\u001b[0m\u001b[0m\n\u001b[0;32m--> 152\u001b[0;31m         \u001b[0mcheck_integrand_arity\u001b[0m\u001b[0;34m(\u001b[0m\u001b[0mitg\u001b[0m\u001b[0;34m.\u001b[0m\u001b[0mintegrand\u001b[0m\u001b[0;34m(\u001b[0m\u001b[0;34m)\u001b[0m\u001b[0;34m,\u001b[0m \u001b[0marguments\u001b[0m\u001b[0;34m)\u001b[0m\u001b[0;34m\u001b[0m\u001b[0m\n\u001b[0m",
      "\u001b[0;32m/home/fpoulin/software/firedrake/src/ufl/ufl/algorithms/check_arities.pyc\u001b[0m in \u001b[0;36mcheck_integrand_arity\u001b[0;34m(expr, arguments)\u001b[0m\n\u001b[1;32m    143\u001b[0m                              key=lambda x: (x.number(), x.part())))\n\u001b[1;32m    144\u001b[0m     \u001b[0mrules\u001b[0m \u001b[0;34m=\u001b[0m \u001b[0mArityChecker\u001b[0m\u001b[0;34m(\u001b[0m\u001b[0marguments\u001b[0m\u001b[0;34m)\u001b[0m\u001b[0;34m\u001b[0m\u001b[0m\n\u001b[0;32m--> 145\u001b[0;31m     \u001b[0margs\u001b[0m \u001b[0;34m=\u001b[0m \u001b[0mmap_expr_dag\u001b[0m\u001b[0;34m(\u001b[0m\u001b[0mrules\u001b[0m\u001b[0;34m,\u001b[0m \u001b[0mexpr\u001b[0m\u001b[0;34m,\u001b[0m \u001b[0mcompress\u001b[0m\u001b[0;34m=\u001b[0m\u001b[0mFalse\u001b[0m\u001b[0;34m)\u001b[0m\u001b[0;34m\u001b[0m\u001b[0m\n\u001b[0m\u001b[1;32m    146\u001b[0m     \u001b[0;32mif\u001b[0m \u001b[0margs\u001b[0m \u001b[0;34m!=\u001b[0m \u001b[0marguments\u001b[0m\u001b[0;34m:\u001b[0m\u001b[0;34m\u001b[0m\u001b[0m\n\u001b[1;32m    147\u001b[0m         \u001b[0;32mraise\u001b[0m \u001b[0mArityMismatch\u001b[0m\u001b[0;34m(\u001b[0m\u001b[0;34m\"Integrand arguments {0} differ from form arguments {1}.\"\u001b[0m\u001b[0;34m.\u001b[0m\u001b[0mformat\u001b[0m\u001b[0;34m(\u001b[0m\u001b[0margs\u001b[0m\u001b[0;34m,\u001b[0m \u001b[0marguments\u001b[0m\u001b[0;34m)\u001b[0m\u001b[0;34m)\u001b[0m\u001b[0;34m\u001b[0m\u001b[0m\n",
      "\u001b[0;32m/home/fpoulin/software/firedrake/src/ufl/ufl/corealg/map_dag.pyc\u001b[0m in \u001b[0;36mmap_expr_dag\u001b[0;34m(function, expression, compress)\u001b[0m\n\u001b[1;32m     35\u001b[0m     \u001b[0mReturn\u001b[0m \u001b[0mthe\u001b[0m \u001b[0mresult\u001b[0m \u001b[0mof\u001b[0m \u001b[0mthe\u001b[0m \u001b[0mfinal\u001b[0m \u001b[0mfunction\u001b[0m \u001b[0mcall\u001b[0m\u001b[0;34m.\u001b[0m\u001b[0;34m\u001b[0m\u001b[0m\n\u001b[1;32m     36\u001b[0m     \"\"\"\n\u001b[0;32m---> 37\u001b[0;31m     \u001b[0mresult\u001b[0m\u001b[0;34m,\u001b[0m \u001b[0;34m=\u001b[0m \u001b[0mmap_expr_dags\u001b[0m\u001b[0;34m(\u001b[0m\u001b[0mfunction\u001b[0m\u001b[0;34m,\u001b[0m \u001b[0;34m[\u001b[0m\u001b[0mexpression\u001b[0m\u001b[0;34m]\u001b[0m\u001b[0;34m,\u001b[0m \u001b[0mcompress\u001b[0m\u001b[0;34m=\u001b[0m\u001b[0mcompress\u001b[0m\u001b[0;34m)\u001b[0m\u001b[0;34m\u001b[0m\u001b[0m\n\u001b[0m\u001b[1;32m     38\u001b[0m     \u001b[0;32mreturn\u001b[0m \u001b[0mresult\u001b[0m\u001b[0;34m\u001b[0m\u001b[0m\n\u001b[1;32m     39\u001b[0m \u001b[0;34m\u001b[0m\u001b[0m\n",
      "\u001b[0;32m/home/fpoulin/software/firedrake/src/ufl/ufl/corealg/map_dag.pyc\u001b[0m in \u001b[0;36mmap_expr_dags\u001b[0;34m(function, expressions, compress)\u001b[0m\n\u001b[1;32m     84\u001b[0m                 \u001b[0mr\u001b[0m \u001b[0;34m=\u001b[0m \u001b[0mhandlers\u001b[0m\u001b[0;34m[\u001b[0m\u001b[0mv\u001b[0m\u001b[0;34m.\u001b[0m\u001b[0m_ufl_typecode_\u001b[0m\u001b[0;34m]\u001b[0m\u001b[0;34m(\u001b[0m\u001b[0mv\u001b[0m\u001b[0;34m)\u001b[0m\u001b[0;34m\u001b[0m\u001b[0m\n\u001b[1;32m     85\u001b[0m             \u001b[0;32melse\u001b[0m\u001b[0;34m:\u001b[0m\u001b[0;34m\u001b[0m\u001b[0m\n\u001b[0;32m---> 86\u001b[0;31m                 \u001b[0mr\u001b[0m \u001b[0;34m=\u001b[0m \u001b[0mhandlers\u001b[0m\u001b[0;34m[\u001b[0m\u001b[0mv\u001b[0m\u001b[0;34m.\u001b[0m\u001b[0m_ufl_typecode_\u001b[0m\u001b[0;34m]\u001b[0m\u001b[0;34m(\u001b[0m\u001b[0mv\u001b[0m\u001b[0;34m,\u001b[0m \u001b[0;34m*\u001b[0m\u001b[0;34m[\u001b[0m\u001b[0mvcache\u001b[0m\u001b[0;34m[\u001b[0m\u001b[0mu\u001b[0m\u001b[0;34m]\u001b[0m \u001b[0;32mfor\u001b[0m \u001b[0mu\u001b[0m \u001b[0;32min\u001b[0m \u001b[0mv\u001b[0m\u001b[0;34m.\u001b[0m\u001b[0mufl_operands\u001b[0m\u001b[0;34m]\u001b[0m\u001b[0;34m)\u001b[0m\u001b[0;34m\u001b[0m\u001b[0m\n\u001b[0m\u001b[1;32m     87\u001b[0m \u001b[0;34m\u001b[0m\u001b[0m\n\u001b[1;32m     88\u001b[0m             \u001b[0;31m# Optionally check if r is in rcache, a memory optimization\u001b[0m\u001b[0;34m\u001b[0m\u001b[0;34m\u001b[0m\u001b[0m\n",
      "\u001b[0;32m/home/fpoulin/software/firedrake/src/ufl/ufl/algorithms/check_arities.pyc\u001b[0m in \u001b[0;36msum\u001b[0;34m(self, o, a, b)\u001b[0m\n\u001b[1;32m     40\u001b[0m     \u001b[0;32mdef\u001b[0m \u001b[0msum\u001b[0m\u001b[0;34m(\u001b[0m\u001b[0mself\u001b[0m\u001b[0;34m,\u001b[0m \u001b[0mo\u001b[0m\u001b[0;34m,\u001b[0m \u001b[0ma\u001b[0m\u001b[0;34m,\u001b[0m \u001b[0mb\u001b[0m\u001b[0;34m)\u001b[0m\u001b[0;34m:\u001b[0m\u001b[0;34m\u001b[0m\u001b[0m\n\u001b[1;32m     41\u001b[0m         \u001b[0;32mif\u001b[0m \u001b[0ma\u001b[0m \u001b[0;34m!=\u001b[0m \u001b[0mb\u001b[0m\u001b[0;34m:\u001b[0m\u001b[0;34m\u001b[0m\u001b[0m\n\u001b[0;32m---> 42\u001b[0;31m             \u001b[0;32mraise\u001b[0m \u001b[0mArityMismatch\u001b[0m\u001b[0;34m(\u001b[0m\u001b[0;34m\"Adding expressions with non-matching form arguments {0} vs {1}.\"\u001b[0m\u001b[0;34m.\u001b[0m\u001b[0mformat\u001b[0m\u001b[0;34m(\u001b[0m\u001b[0ma\u001b[0m\u001b[0;34m,\u001b[0m \u001b[0mb\u001b[0m\u001b[0;34m)\u001b[0m\u001b[0;34m)\u001b[0m\u001b[0;34m\u001b[0m\u001b[0m\n\u001b[0m\u001b[1;32m     43\u001b[0m         \u001b[0;32mreturn\u001b[0m \u001b[0ma\u001b[0m\u001b[0;34m\u001b[0m\u001b[0m\n\u001b[1;32m     44\u001b[0m \u001b[0;34m\u001b[0m\u001b[0m\n",
      "\u001b[0;31mArityMismatch\u001b[0m: Adding expressions with non-matching form arguments (Argument(WithGeometry(FunctionSpace(<firedrake.mesh.MeshTopology object at 0x7f695114f390>, FiniteElement('Lagrange', interval, 2), name=None), Mesh(VectorElement(FiniteElement('Lagrange', interval, 1), dim=1), 1)), 0, None), Argument(WithGeometry(FunctionSpace(<firedrake.mesh.MeshTopology object at 0x7f695114f390>, FiniteElement('Lagrange', interval, 2), name=None), Mesh(VectorElement(FiniteElement('Lagrange', interval, 1), dim=1), 1)), 1, None)) vs (Argument(WithGeometry(FunctionSpace(<firedrake.mesh.MeshTopology object at 0x7f695114f390>, FiniteElement('Lagrange', interval, 2), name=None), Mesh(VectorElement(FiniteElement('Lagrange', interval, 1), dim=1), 1)), 0, None),)."
     ]
    }
   ],
   "source": [
    "num_eigenvalues = 4\n",
    "\n",
    "# Wavenumber\n",
    "dk   = 1.0\n",
    "kk   = np.arange(dk, 2.0, dk)\n",
    "kL   = len(kk)\n",
    "egs_re  = np.zeros((len(kk),num_eigenvalues))\n",
    "egs_im  = np.zeros((len(kk),num_eigenvalues))\n",
    "\n",
    "cnt = 0\n",
    "for k in kk:\n",
    "\n",
    "    k2   = Constant(k**2)\n",
    "\n",
    "    # Define Weak form\n",
    "    \n",
    "    a =   ( (Ub*phi             - 1./(Ro*k2)*psi          + 1./Ro*Hb*vphi)*u )*dx \\\n",
    "        + ( ((dUb - psi/Ro)*phi + Ub*psi                  - 1./Ro*Hb*vphi.dx(0))*v )*dx \\\n",
    "        + ( 1./Ro*phi*eta       - 1./(Ro*k2)*psi*eta.dx(0) + vphi*Ub )*dx\n",
    "    m = (phi*u + psi*v + vphi*eta)*dx\n",
    "    \n",
    "    # Build Petsc operators\n",
    "    \n",
    "    petsc_a = assemble(a, mat_type='aij', bcs=bc).M.handle\n",
    "    petsc_m = assemble(m, mat_type='aij', bcs=bc).M.handle\n",
    "\n",
    "    # Define Petsc options\n",
    "\n",
    "    opts = PETSc.Options()\n",
    "    opts.setValue(\"eps_gen_non_hermitian\", None)\n",
    "    opts.setValue(\"st_pc_factor_shift_type\", \"NONZERO\")\n",
    "    #opts.setValue(\"eps_type\", \"lapack\")\n",
    "    opts.setValue(\"eps_type\", \"krylovschur\")\n",
    "    opts.setValue(\"eps_largest_imaginary\", None)\n",
    "    opts.setValue(\"eps_tol\", 1e-10)\n",
    "\n",
    "    # Define Solver options\n",
    "\n",
    "    es = SLEPc.EPS().create(comm=COMM_WORLD)\n",
    "    es.setDimensions(num_eigenvalues)\n",
    "    es.setOperators(petsc_a, petsc_m)\n",
    "    es.setFromOptions()\n",
    "    es.solve()\n",
    "\n",
    "    # Additionally we can find the number of converged eigenvalues. ::\n",
    "\n",
    "    nconv = es.getConverged()\n",
    "    imax = min(nconv, num_eigenvalues)\n",
    "    for i in range(imax):\n",
    "        vr, vi = petsc_a.getVecs()\n",
    "\n",
    "        lam = es.getEigenpair(i, vr, vi)\n",
    "        \n",
    "        egs_re[cnt,i] = k*lam.real\n",
    "        egs_im[cnt,i] = k*lam.imag\n",
    "    \n",
    "    # Find eigenfunctions\n",
    "    #emodes_real.vector()[:], emodes_imag.vector()[:] = vr, vi\n",
    "    #print \"Leading eigenvalue is:\", lam, \" for cnt = \", cnt, \" with nconv = \", nconv\n",
    "    \n",
    "    cnt += 1\n",
    "    \n",
    "print np.max(abs(egs_im))"
   ]
  },
  {
   "cell_type": "code",
   "execution_count": null,
   "metadata": {
    "collapsed": true
   },
   "outputs": [],
   "source": []
  }
 ],
 "metadata": {
  "kernelspec": {
   "display_name": "Python 2",
   "language": "python",
   "name": "python2"
  },
  "language_info": {
   "codemirror_mode": {
    "name": "ipython",
    "version": 2
   },
   "file_extension": ".py",
   "mimetype": "text/x-python",
   "name": "python",
   "nbconvert_exporter": "python",
   "pygments_lexer": "ipython2",
   "version": "2.7.11+"
  }
 },
 "nbformat": 4,
 "nbformat_minor": 2
}
